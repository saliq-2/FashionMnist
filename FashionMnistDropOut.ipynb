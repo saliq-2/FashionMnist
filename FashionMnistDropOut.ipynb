{
  "nbformat": 4,
  "nbformat_minor": 0,
  "metadata": {
    "colab": {
      "provenance": [],
      "authorship_tag": "ABX9TyN8YhFuGK5gKi/U9DpuyOcH",
      "include_colab_link": true
    },
    "kernelspec": {
      "name": "python3",
      "display_name": "Python 3"
    },
    "language_info": {
      "name": "python"
    }
  },
  "cells": [
    {
      "cell_type": "markdown",
      "metadata": {
        "id": "view-in-github",
        "colab_type": "text"
      },
      "source": [
        "<a href=\"https://colab.research.google.com/github/saliq-2/FashionMnist/blob/main/FashionMnistDropOut.ipynb\" target=\"_parent\"><img src=\"https://colab.research.google.com/assets/colab-badge.svg\" alt=\"Open In Colab\"/></a>"
      ]
    },
    {
      "cell_type": "code",
      "source": [
        "import torch\n",
        "import torch.nn as nn\n",
        "from torchvision import datasets, transforms\n",
        "import matplotlib.pyplot as plt\n",
        "%matplotlib inline\n",
        "import numpy as np"
      ],
      "metadata": {
        "id": "kHWU0z2ZsiNO"
      },
      "execution_count": 1,
      "outputs": []
    },
    {
      "cell_type": "code",
      "source": [
        "# Import data (ignore the warnings!)\n",
        "fashion_mnist = datasets.FashionMNIST('data/fashion', download=True, transform=transforms.Compose([\n",
        "                       transforms.ToTensor(),\n",
        "                       transforms.Normalize((0.1307,), (0.3081,))\n",
        "                   ]))\n",
        "print(fashion_mnist)\n",
        "print(dir(fashion_mnist))\n",
        "print(fashion_mnist.train_data)\n"
      ],
      "metadata": {
        "colab": {
          "base_uri": "https://localhost:8080/"
        },
        "id": "d9WNeC5mt0Hp",
        "outputId": "c72b58dc-7a58-4e55-c538-7fe18c2bd8d8"
      },
      "execution_count": 4,
      "outputs": [
        {
          "output_type": "stream",
          "name": "stdout",
          "text": [
            "Dataset FashionMNIST\n",
            "    Number of datapoints: 60000\n",
            "    Root location: data/fashion\n",
            "    Split: Train\n",
            "    StandardTransform\n",
            "Transform: Compose(\n",
            "               ToTensor()\n",
            "               Normalize(mean=(0.1307,), std=(0.3081,))\n",
            "           )\n",
            "['__add__', '__annotations__', '__class__', '__class_getitem__', '__delattr__', '__dict__', '__dir__', '__doc__', '__eq__', '__format__', '__ge__', '__getattribute__', '__getitem__', '__getstate__', '__gt__', '__hash__', '__init__', '__init_subclass__', '__le__', '__len__', '__lt__', '__module__', '__ne__', '__new__', '__orig_bases__', '__parameters__', '__reduce__', '__reduce_ex__', '__repr__', '__setattr__', '__sizeof__', '__slots__', '__str__', '__subclasshook__', '__weakref__', '_check_exists', '_check_legacy_exist', '_format_transform_repr', '_is_protocol', '_load_data', '_load_legacy_data', '_repr_indent', 'class_to_idx', 'classes', 'data', 'download', 'extra_repr', 'mirrors', 'processed_folder', 'raw_folder', 'resources', 'root', 'target_transform', 'targets', 'test_data', 'test_file', 'test_labels', 'train', 'train_data', 'train_labels', 'training_file', 'transform', 'transforms']\n",
            "tensor([[[0, 0, 0,  ..., 0, 0, 0],\n",
            "         [0, 0, 0,  ..., 0, 0, 0],\n",
            "         [0, 0, 0,  ..., 0, 0, 0],\n",
            "         ...,\n",
            "         [0, 0, 0,  ..., 0, 0, 0],\n",
            "         [0, 0, 0,  ..., 0, 0, 0],\n",
            "         [0, 0, 0,  ..., 0, 0, 0]],\n",
            "\n",
            "        [[0, 0, 0,  ..., 0, 0, 0],\n",
            "         [0, 0, 0,  ..., 0, 0, 0],\n",
            "         [0, 0, 0,  ..., 0, 0, 0],\n",
            "         ...,\n",
            "         [0, 0, 0,  ..., 0, 0, 0],\n",
            "         [0, 0, 0,  ..., 0, 0, 0],\n",
            "         [0, 0, 0,  ..., 0, 0, 0]],\n",
            "\n",
            "        [[0, 0, 0,  ..., 0, 0, 0],\n",
            "         [0, 0, 0,  ..., 0, 0, 0],\n",
            "         [0, 0, 0,  ..., 0, 0, 0],\n",
            "         ...,\n",
            "         [0, 0, 0,  ..., 0, 0, 0],\n",
            "         [0, 0, 0,  ..., 0, 0, 0],\n",
            "         [0, 0, 0,  ..., 0, 0, 0]],\n",
            "\n",
            "        ...,\n",
            "\n",
            "        [[0, 0, 0,  ..., 0, 0, 0],\n",
            "         [0, 0, 0,  ..., 0, 0, 0],\n",
            "         [0, 0, 0,  ..., 0, 0, 0],\n",
            "         ...,\n",
            "         [0, 0, 0,  ..., 0, 0, 0],\n",
            "         [0, 0, 0,  ..., 0, 0, 0],\n",
            "         [0, 0, 0,  ..., 0, 0, 0]],\n",
            "\n",
            "        [[0, 0, 0,  ..., 0, 0, 0],\n",
            "         [0, 0, 0,  ..., 0, 0, 0],\n",
            "         [0, 0, 0,  ..., 0, 0, 0],\n",
            "         ...,\n",
            "         [0, 0, 0,  ..., 0, 0, 0],\n",
            "         [0, 0, 0,  ..., 0, 0, 0],\n",
            "         [0, 0, 0,  ..., 0, 0, 0]],\n",
            "\n",
            "        [[0, 0, 0,  ..., 0, 0, 0],\n",
            "         [0, 0, 0,  ..., 0, 0, 0],\n",
            "         [0, 0, 0,  ..., 0, 0, 0],\n",
            "         ...,\n",
            "         [0, 0, 0,  ..., 0, 0, 0],\n",
            "         [0, 0, 0,  ..., 0, 0, 0],\n",
            "         [0, 0, 0,  ..., 0, 0, 0]]], dtype=torch.uint8)\n"
          ]
        },
        {
          "output_type": "stream",
          "name": "stderr",
          "text": [
            "/usr/local/lib/python3.11/dist-packages/torchvision/datasets/mnist.py:76: UserWarning: train_data has been renamed data\n",
            "  warnings.warn(\"train_data has been renamed data\")\n"
          ]
        }
      ]
    },
    {
      "cell_type": "code",
      "source": [
        "def accuracy(true_labels, predicted_labels):\n",
        "    \"\"\"\n",
        "    Compute the classification accuracy for given labels and predictions\n",
        "    :param true_labels: list of gold labels\n",
        "    :param predicted_labels: list of predicted labels of same length as true_labels\n",
        "    :return: a float between 0 and 1 describing how accurate the predicted labels are\n",
        "    \"\"\"\n",
        "    accuracy = 0.0\n",
        "\n",
        "    # YOUR CODE HERE\n",
        "    true_labels = torch.tensor(true_labels)\n",
        "    predicted_labels = torch.tensor(predicted_labels)\n",
        "\n",
        "    correct = (true_labels == predicted_labels).sum().item()\n",
        "    total = len(true_labels)\n",
        "\n",
        "    accuracy = correct / total\n",
        "    #raise NotImplementedError\n",
        "    return accuracy"
      ],
      "metadata": {
        "id": "4TlAdC5rt5a8"
      },
      "execution_count": 5,
      "outputs": []
    },
    {
      "cell_type": "code",
      "source": [
        "# Target classes\n",
        "label_dict = {\n",
        " 0: 'T-shirt/top',\n",
        " 1: 'Trouser',\n",
        " 2: 'Pullover',\n",
        " 3: 'Dress',\n",
        " 4: 'Coat',\n",
        " 5: 'Sandal',\n",
        " 6: 'Shirt',\n",
        " 7: 'Sneaker',\n",
        " 8: 'Bag',\n",
        " 9: 'Ankle boot'\n",
        "}"
      ],
      "metadata": {
        "id": "rJHIz70tt2rK"
      },
      "execution_count": 6,
      "outputs": []
    },
    {
      "cell_type": "code",
      "source": [
        "n_input = 784  # Fashion MNIST data input (img shape: 28*28)\n",
        "n_classes = len(label_dict)  # Fashion MNIST total classes (0–9 digits)\n",
        "n_samples = fashion_mnist.train_data.shape[0]  # Number of examples in training set\n",
        "batch_size = 10\n",
        "n_epochs = 5\n",
        "summary_freq_batches = 10\n",
        "learning_rate = 0.01\n",
        "train_loader = torch.utils.data.DataLoader(fashion_mnist, batch_size = batch_size)"
      ],
      "metadata": {
        "colab": {
          "base_uri": "https://localhost:8080/"
        },
        "id": "u0kQL8i3QzF1",
        "outputId": "90acb05d-6970-49c9-bf33-dab515e461fd"
      },
      "execution_count": 7,
      "outputs": [
        {
          "output_type": "stream",
          "name": "stderr",
          "text": [
            "/usr/local/lib/python3.11/dist-packages/torchvision/datasets/mnist.py:76: UserWarning: train_data has been renamed data\n",
            "  warnings.warn(\"train_data has been renamed data\")\n"
          ]
        }
      ]
    },
    {
      "cell_type": "code",
      "execution_count": 40,
      "metadata": {
        "id": "IIia2TwxZ9i-"
      },
      "outputs": [],
      "source": [
        "import torch\n",
        "import torch.nn as nn\n",
        "\n",
        "\n",
        "#Network Arch\n",
        "\n",
        "#conv->maxpool->relu->droput->#conv->maxpool->relu->droput->#conv->maxpool->relu->droput->flatten->linear_layer->relu->linear_layer->softmax_layer\n",
        "class CNNDropout(nn.Module):\n",
        "   def __init__(self):\n",
        "      super(CNNDropout, self).__init__()\n",
        "\n",
        "\n",
        "      self.conv1=nn.Conv2d(in_channels=1,out_channels=10,kernel_size=3,stride=1)\n",
        "\n",
        "\n",
        "      self.conv2=nn.Conv2d(in_channels=10,out_channels=20,kernel_size=3,stride=1)\n",
        "\n",
        "\n",
        "      self.conv3=nn.Conv2d(in_channels=20,out_channels=40,kernel_size=3,stride=1)\n",
        "\n",
        "\n",
        "      self.dropout=nn.Dropout2d(0.2)\n",
        "\n",
        "\n",
        "\n",
        "      #Linear layers\n",
        "\n",
        "\n",
        "      self.linear1=nn.Linear(40*1*1,100)\n",
        "\n",
        "      self.linear2=nn.Linear(100,10)\n",
        "\n",
        "\n",
        "\n",
        "      #max pool\n",
        "      self.max_pool=nn.MaxPool2d(kernel_size=2,stride=2)\n",
        "      #activation\n",
        "\n",
        "      self.relu=nn.ReLU()\n",
        "\n",
        "   def forward(self,x):\n",
        "      #layer 1\n",
        "\n",
        "\n",
        "      x=self.relu(self.conv1(x))\n",
        "      x=self.max_pool(x)\n",
        "      x=self.dropout(x)\n",
        "\n",
        "\n",
        "\n",
        "      #layer 2\n",
        "\n",
        "      x=self.conv2(x)\n",
        "      x=self.relu(x)\n",
        "      x=self.max_pool(x)\n",
        "      x=self.dropout(x)\n",
        "\n",
        "\n",
        "\n",
        "      #layer 3\n",
        "\n",
        "      x=self.conv3(x)\n",
        "      x=self.relu(x)\n",
        "      x=self.max_pool(x)\n",
        "      x=self.dropout(x)\n",
        "\n",
        "      #print(x.shape)\n",
        "\n",
        "      x=x.view(x.size(0),-1)\n",
        "\n",
        "\n",
        "      #linear layers\n",
        "\n",
        "      x=self.linear1(x)\n",
        "      x=self.relu(x)\n",
        "      x=self.linear2(x)\n",
        "      return x\n",
        "\n",
        "\n",
        "\n",
        "\n"
      ]
    },
    {
      "cell_type": "code",
      "source": [
        "import torchvision\n",
        "#\n",
        "model=CNNDropout()\n",
        "criterion=nn.CrossEntropyLoss()\n",
        "optimizer=torch.optim.Adam(model.parameters(),lr=0.001)\n",
        "epochs=10"
      ],
      "metadata": {
        "id": "W8DiOSWfaHrf"
      },
      "execution_count": 41,
      "outputs": []
    },
    {
      "cell_type": "code",
      "source": [
        "\n",
        "epochs=10\n",
        "for epoch in range(epochs):\n",
        "\n",
        "  running_loss=0.0\n",
        "  for images,labels in train_loader:\n",
        "    model.train()\n",
        "    optimizer.zero_grad()\n",
        "\n",
        "    output=model(images)\n",
        "    loss=criterion(output,labels)\n",
        "    loss.backward()\n",
        "    optimizer.step()\n",
        "    running_loss+=loss.item()\n",
        "\n",
        "  print(f\"Epoch {epoch}----- Training loss: {running_loss/len(train_loader)}\")\n",
        "\n",
        "\n"
      ],
      "metadata": {
        "colab": {
          "base_uri": "https://localhost:8080/"
        },
        "id": "vzeTCC-pfRss",
        "outputId": "3adac5e0-1f42-4eda-d351-d264f5e79e76"
      },
      "execution_count": 43,
      "outputs": [
        {
          "output_type": "stream",
          "name": "stdout",
          "text": [
            "Epoch 0----- Training loss: 0.5127155889485342\n",
            "Epoch 1----- Training loss: 0.49308854159417875\n",
            "Epoch 2----- Training loss: 0.47813286949414757\n",
            "Epoch 3----- Training loss: 0.46489036209710566\n",
            "Epoch 4----- Training loss: 0.4538221976738423\n",
            "Epoch 5----- Training loss: 0.45272770639446874\n",
            "Epoch 6----- Training loss: 0.4437577872129623\n",
            "Epoch 7----- Training loss: 0.4407967197225274\n",
            "Epoch 8----- Training loss: 0.4392282514406834\n",
            "Epoch 9----- Training loss: 0.43682165994190536\n"
          ]
        }
      ]
    },
    {
      "cell_type": "code",
      "source": [
        "#TODO: initialise model, optimizer and loss function\n",
        "# Training\n",
        "model=CNNDropout()\n",
        "optimizer=torch.optim.SGD(model.parameters(),lr=learning_rate)\n",
        "loss_function=nn.CrossEntropyLoss()\n",
        "train_loader = torch.utils.data.DataLoader(fashion_mnist, batch_size = batch_size)\n",
        "total_count = 0\n",
        "for epoch_no in range(n_epochs):\n",
        "    for batch_no, (batch_inputs, batch_labels) in enumerate(train_loader):\n",
        "\n",
        "        total_count += batch_size\n",
        "        # TODO: feed input to model, calculate loss, step with the optimizer, zero_grad\n",
        "        # YOUR CODE HERE\n",
        "        optimizer.zero_grad()\n",
        "        outputs=model(batch_inputs)\n",
        "        loss=loss_function(outputs,batch_labels)\n",
        "        loss.backward()\n",
        "        optimizer.step()\n",
        "\n",
        "\n",
        "\n",
        "\n",
        "\n",
        "        #raise NotImplementedError()\n",
        "\n",
        "        #if batch_no % summary_freq_batches==0:\n",
        "            # TODO: add the loss of the training batch to the training summary\n",
        "            # YOUR CODE HERE\n",
        "            #print(f\"Epoch {epoch_no}, Batch {batch_no}, Loss: {loss.item():.4f}\")\n",
        "\n",
        "\n",
        "\n",
        "\n",
        "            #raise NotImplementedError()\n",
        "\n",
        "# Test on the train set (do not do this in practice)\n",
        "\n",
        "test_inputs = fashion_mnist.data.unsqueeze(1).float()  # [60000, 1, 28, 28]\n",
        "\n",
        "test_labels = fashion_mnist.targets\n",
        "\n",
        "test_predictions = None\n",
        "# TODO: feed test inputs, fetch predictions\n",
        "# YOUR CODE HERE\n",
        "\n",
        "with torch.no_grad():\n",
        "    model.eval() # Set the model to evaluation mode\n",
        "\n",
        "    # Get model outputs (logits)\n",
        "    test_outputs = model(test_inputs.float())\n",
        "\n",
        "    # Get the predicted class by finding the index of the maximum log-probability\n",
        "    # torch.max returns (values, indices), we only need the indices\n",
        "    _, test_predictions = torch.max(test_outputs.data, 1)\n",
        "\n",
        "# Compute the accuracy of the validation predictions\n",
        "true_test_labels = test_labels\n",
        "print(\"\\nTest accuracy after training of {} iterations: {:.2f}%\".format(total_count, accuracy(true_test_labels, test_predictions)*100))\n",
        "\n",
        "# Random test sample\n",
        "sample_no = np.random.randint(0, len(test_inputs))\n",
        "print(\"\\nTest prediction: {}\".format(label_dict[test_predictions[sample_no].item()]))\n",
        "\n",
        "plt.show()\n",
        "plt.imshow(test_inputs[sample_no].reshape(28,28), cmap='Greys')\n",
        "plt.show()\n"
      ],
      "metadata": {
        "colab": {
          "base_uri": "https://localhost:8080/",
          "height": 593
        },
        "id": "yrJMvV0Yr9iF",
        "outputId": "7fcdba74-3274-4faa-e6db-6300aa1fc090"
      },
      "execution_count": 54,
      "outputs": [
        {
          "output_type": "stream",
          "name": "stdout",
          "text": [
            "\n",
            "Test accuracy after training of 300000 iterations: 81.65%\n",
            "\n",
            "Test prediction: T-shirt/top\n"
          ]
        },
        {
          "output_type": "stream",
          "name": "stderr",
          "text": [
            "<ipython-input-5-3259583533>:11: UserWarning: To copy construct from a tensor, it is recommended to use sourceTensor.clone().detach() or sourceTensor.clone().detach().requires_grad_(True), rather than torch.tensor(sourceTensor).\n",
            "  true_labels = torch.tensor(true_labels)\n",
            "<ipython-input-5-3259583533>:12: UserWarning: To copy construct from a tensor, it is recommended to use sourceTensor.clone().detach() or sourceTensor.clone().detach().requires_grad_(True), rather than torch.tensor(sourceTensor).\n",
            "  predicted_labels = torch.tensor(predicted_labels)\n"
          ]
        },
        {
          "output_type": "display_data",
          "data": {
            "text/plain": [
              "<Figure size 640x480 with 1 Axes>"
            ],
            "image/png": "[encoded data removed]"
          },
          "metadata": {}
        }
      ]
    }
  ]
}