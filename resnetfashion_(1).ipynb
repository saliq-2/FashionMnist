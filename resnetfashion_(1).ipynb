{
  "metadata": {
    "kernelspec": {
      "name": "python3",
      "display_name": "Python 3",
      "language": "python"
    },
    "language_info": {
      "name": "python",
      "version": "3.11.11",
      "mimetype": "text/x-python",
      "codemirror_mode": {
        "name": "ipython",
        "version": 3
      },
      "pygments_lexer": "ipython3",
      "nbconvert_exporter": "python",
      "file_extension": ".py"
    },
    "colab": {
      "provenance": [],
      "gpuType": "V28",
      "include_colab_link": true
    },
    "accelerator": "TPU",
    "kaggle": {
      "accelerator": "nvidiaTeslaT4",
      "dataSources": [],
      "dockerImageVersionId": 31041,
      "isInternetEnabled": true,
      "language": "python",
      "sourceType": "notebook",
      "isGpuEnabled": true
    }
  },
  "nbformat_minor": 0,
  "nbformat": 4,
  "cells": [
    {
      "cell_type": "markdown",
      "metadata": {
        "id": "view-in-github",
        "colab_type": "text"
      },
      "source": [
        "<a href=\"https://colab.research.google.com/github/saliq-2/FashionMnist/blob/main/resnetfashion_(1).ipynb\" target=\"_parent\"><img src=\"https://colab.research.google.com/assets/colab-badge.svg\" alt=\"Open In Colab\"/></a>"
      ]
    },
    {
      "cell_type": "code",
      "source": [
        "import torch\n",
        "import torch.nn as nn\n",
        "from torchvision import datasets, transforms\n",
        "import matplotlib.pyplot as plt\n",
        "%matplotlib inline\n",
        "import numpy as np"
      ],
      "metadata": {
        "id": "00k1ljCPjtmi",
        "trusted": true,
        "execution": {
          "iopub.status.busy": "2025-06-21T11:27:59.658213Z",
          "iopub.execute_input": "2025-06-21T11:27:59.658661Z",
          "iopub.status.idle": "2025-06-21T11:27:59.663721Z",
          "shell.execute_reply.started": "2025-06-21T11:27:59.658639Z",
          "shell.execute_reply": "2025-06-21T11:27:59.662910Z"
        }
      },
      "outputs": [],
      "execution_count": null
    },
    {
      "cell_type": "code",
      "source": [
        "# Import data (ignore the warnings!)\n",
        "fashion_mnist = datasets.FashionMNIST('data/fashion', download=True, transform=transforms.Compose([\n",
        "                       transforms.ToTensor(),\n",
        "                       transforms.Normalize((0.1307,), (0.3081,))\n",
        "                   ]))\n",
        "print(fashion_mnist)\n",
        "print(dir(fashion_mnist))\n",
        "print(fashion_mnist.train_data)\n"
      ],
      "metadata": {
        "colab": {
          "base_uri": "https://localhost:8080/"
        },
        "id": "OpreJRTwjtkB",
        "outputId": "2f6b6a9f-37e7-4904-e294-b91fa30c1a7e",
        "trusted": true,
        "execution": {
          "iopub.status.busy": "2025-06-21T11:27:59.664754Z",
          "iopub.execute_input": "2025-06-21T11:27:59.664967Z",
          "iopub.status.idle": "2025-06-21T11:27:59.759698Z",
          "shell.execute_reply.started": "2025-06-21T11:27:59.664952Z",
          "shell.execute_reply": "2025-06-21T11:27:59.758995Z"
        }
      },
      "outputs": [
        {
          "name": "stdout",
          "text": "Dataset FashionMNIST\n    Number of datapoints: 60000\n    Root location: data/fashion\n    Split: Train\n    StandardTransform\nTransform: Compose(\n               ToTensor()\n               Normalize(mean=(0.1307,), std=(0.3081,))\n           )\n['__add__', '__annotations__', '__class__', '__class_getitem__', '__delattr__', '__dict__', '__dir__', '__doc__', '__eq__', '__format__', '__ge__', '__getattribute__', '__getitem__', '__getstate__', '__gt__', '__hash__', '__init__', '__init_subclass__', '__le__', '__len__', '__lt__', '__module__', '__ne__', '__new__', '__orig_bases__', '__parameters__', '__reduce__', '__reduce_ex__', '__repr__', '__setattr__', '__sizeof__', '__slots__', '__str__', '__subclasshook__', '__weakref__', '_check_exists', '_check_legacy_exist', '_format_transform_repr', '_is_protocol', '_load_data', '_load_legacy_data', '_repr_indent', 'class_to_idx', 'classes', 'data', 'download', 'extra_repr', 'mirrors', 'processed_folder', 'raw_folder', 'resources', 'root', 'target_transform', 'targets', 'test_data', 'test_file', 'test_labels', 'train', 'train_data', 'train_labels', 'training_file', 'transform', 'transforms']\ntensor([[[0, 0, 0,  ..., 0, 0, 0],\n         [0, 0, 0,  ..., 0, 0, 0],\n         [0, 0, 0,  ..., 0, 0, 0],\n         ...,\n         [0, 0, 0,  ..., 0, 0, 0],\n         [0, 0, 0,  ..., 0, 0, 0],\n         [0, 0, 0,  ..., 0, 0, 0]],\n\n        [[0, 0, 0,  ..., 0, 0, 0],\n         [0, 0, 0,  ..., 0, 0, 0],\n         [0, 0, 0,  ..., 0, 0, 0],\n         ...,\n         [0, 0, 0,  ..., 0, 0, 0],\n         [0, 0, 0,  ..., 0, 0, 0],\n         [0, 0, 0,  ..., 0, 0, 0]],\n\n        [[0, 0, 0,  ..., 0, 0, 0],\n         [0, 0, 0,  ..., 0, 0, 0],\n         [0, 0, 0,  ..., 0, 0, 0],\n         ...,\n         [0, 0, 0,  ..., 0, 0, 0],\n         [0, 0, 0,  ..., 0, 0, 0],\n         [0, 0, 0,  ..., 0, 0, 0]],\n\n        ...,\n\n        [[0, 0, 0,  ..., 0, 0, 0],\n         [0, 0, 0,  ..., 0, 0, 0],\n         [0, 0, 0,  ..., 0, 0, 0],\n         ...,\n         [0, 0, 0,  ..., 0, 0, 0],\n         [0, 0, 0,  ..., 0, 0, 0],\n         [0, 0, 0,  ..., 0, 0, 0]],\n\n        [[0, 0, 0,  ..., 0, 0, 0],\n         [0, 0, 0,  ..., 0, 0, 0],\n         [0, 0, 0,  ..., 0, 0, 0],\n         ...,\n         [0, 0, 0,  ..., 0, 0, 0],\n         [0, 0, 0,  ..., 0, 0, 0],\n         [0, 0, 0,  ..., 0, 0, 0]],\n\n        [[0, 0, 0,  ..., 0, 0, 0],\n         [0, 0, 0,  ..., 0, 0, 0],\n         [0, 0, 0,  ..., 0, 0, 0],\n         ...,\n         [0, 0, 0,  ..., 0, 0, 0],\n         [0, 0, 0,  ..., 0, 0, 0],\n         [0, 0, 0,  ..., 0, 0, 0]]], dtype=torch.uint8)\n",
          "output_type": "stream"
        }
      ],
      "execution_count": null
    },
    {
      "cell_type": "code",
      "source": [
        "def accuracy(true_labels, predicted_labels):\n",
        "    \"\"\"\n",
        "    Compute the classification accuracy for given labels and predictions\n",
        "    :param true_labels: list of gold labels\n",
        "    :param predicted_labels: list of predicted labels of same length as true_labels\n",
        "    :return: a float between 0 and 1 describing how accurate the predicted labels are\n",
        "    \"\"\"\n",
        "    accuracy = 0.0\n",
        "\n",
        "    # YOUR CODE HERE\n",
        "    true_labels = torch.tensor(true_labels)\n",
        "    predicted_labels = torch.tensor(predicted_labels)\n",
        "\n",
        "    correct = (true_labels == predicted_labels).sum().item()\n",
        "    total = len(true_labels)\n",
        "\n",
        "    accuracy = correct / total\n",
        "    #raise NotImplementedError\n",
        "    return accuracy"
      ],
      "metadata": {
        "id": "mqxb6esGjtg1",
        "trusted": true,
        "execution": {
          "iopub.status.busy": "2025-06-21T11:27:59.760853Z",
          "iopub.execute_input": "2025-06-21T11:27:59.761055Z",
          "iopub.status.idle": "2025-06-21T11:27:59.765892Z",
          "shell.execute_reply.started": "2025-06-21T11:27:59.761039Z",
          "shell.execute_reply": "2025-06-21T11:27:59.765250Z"
        }
      },
      "outputs": [],
      "execution_count": null
    },
    {
      "cell_type": "code",
      "source": [
        "# Target classes\n",
        "label_dict = {\n",
        " 0: 'T-shirt/top',\n",
        " 1: 'Trouser',\n",
        " 2: 'Pullover',\n",
        " 3: 'Dress',\n",
        " 4: 'Coat',\n",
        " 5: 'Sandal',\n",
        " 6: 'Shirt',\n",
        " 7: 'Sneaker',\n",
        " 8: 'Bag',\n",
        " 9: 'Ankle boot'\n",
        "}"
      ],
      "metadata": {
        "id": "G3WewJ5wjtdi",
        "trusted": true,
        "execution": {
          "iopub.status.busy": "2025-06-21T11:27:59.766557Z",
          "iopub.execute_input": "2025-06-21T11:27:59.766747Z",
          "iopub.status.idle": "2025-06-21T11:27:59.776040Z",
          "shell.execute_reply.started": "2025-06-21T11:27:59.766732Z",
          "shell.execute_reply": "2025-06-21T11:27:59.775378Z"
        }
      },
      "outputs": [],
      "execution_count": null
    },
    {
      "cell_type": "code",
      "source": [
        "n_input = 784  # Fashion MNIST data input (img shape: 28*28)\n",
        "n_classes = len(label_dict)  # Fashion MNIST total classes (0–9 digits)\n",
        "n_samples = fashion_mnist.train_data.shape[0]  # Number of examples in training set\n",
        "batch_size = 32\n",
        "n_epochs = 10\n",
        "summary_freq_batches = 10\n",
        "learning_rate = 0.01\n",
        "train_loader = torch.utils.data.DataLoader(fashion_mnist, batch_size = batch_size)"
      ],
      "metadata": {
        "id": "kO3d6O1gjtRu",
        "trusted": true,
        "execution": {
          "iopub.status.busy": "2025-06-21T11:27:59.777810Z",
          "iopub.execute_input": "2025-06-21T11:27:59.778337Z",
          "iopub.status.idle": "2025-06-21T11:27:59.791424Z",
          "shell.execute_reply.started": "2025-06-21T11:27:59.778321Z",
          "shell.execute_reply": "2025-06-21T11:27:59.790711Z"
        }
      },
      "outputs": [],
      "execution_count": null
    },
    {
      "cell_type": "code",
      "source": [
        "import torch\n",
        "import torch.nn as nn\n",
        "import torch.nn.functional as F\n",
        "\n",
        "# Residual Block\n",
        "class ResidualBlock(nn.Module):\n",
        "    def __init__(self, in_channels, out_channels, stride=1, downsample=None):\n",
        "        super(ResidualBlock, self).__init__()\n",
        "\n",
        "        self.conv1 = nn.Conv2d(in_channels, out_channels, kernel_size=3,\n",
        "                               stride=stride, padding=1, bias=False)\n",
        "        self.bn1 = nn.BatchNorm2d(out_channels)\n",
        "\n",
        "        self.conv2 = nn.Conv2d(out_channels, out_channels, kernel_size=3,\n",
        "                               stride=1, padding=1, bias=False)\n",
        "        self.bn2 = nn.BatchNorm2d(out_channels)\n",
        "\n",
        "        self.downsample = downsample\n",
        "        self.relu = nn.ReLU(inplace=True)\n",
        "\n",
        "    def forward(self, x):\n",
        "        identity = x\n",
        "\n",
        "        out = self.relu(self.bn1(self.conv1(x)))\n",
        "        out = self.bn2(self.conv2(out))\n",
        "\n",
        "        if self.downsample:\n",
        "            identity = self.downsample(x)\n",
        "\n",
        "        out += identity\n",
        "        out = self.relu(out)\n",
        "        return out\n",
        "\n",
        "# ResNet (Mini)\n",
        "class ResNetMini(nn.Module):\n",
        "    def __init__(self, block, layers, num_classes=10):\n",
        "        super(ResNetMini, self).__init__()\n",
        "        self.in_channels = 16\n",
        "\n",
        "        self.conv = nn.Conv2d(1, 16, kernel_size=3, stride=1, padding=1, bias=False)  # 28x28 -> 28x28\n",
        "        self.bn = nn.BatchNorm2d(16)\n",
        "        self.relu = nn.ReLU(inplace=True)\n",
        "\n",
        "        self.layer1 = self._make_layer(block, 16, layers[0], stride=1)  # 28x28\n",
        "        self.layer2 = self._make_layer(block, 32, layers[1], stride=2)  # 14x14\n",
        "        self.layer3 = self._make_layer(block, 64, layers[2], stride=2)  # 7x7\n",
        "\n",
        "        self.avg_pool = nn.AdaptiveAvgPool2d((1, 1))  # output: [batch_size, 64, 1, 1]\n",
        "        self.fc = nn.Linear(64, num_classes)\n",
        "\n",
        "    def _make_layer(self, block, out_channels, blocks, stride):\n",
        "        downsample = None\n",
        "\n",
        "        if stride != 1 or self.in_channels != out_channels:\n",
        "            downsample = nn.Sequential(\n",
        "                nn.Conv2d(self.in_channels, out_channels,\n",
        "                          kernel_size=1, stride=stride, bias=False),\n",
        "                nn.BatchNorm2d(out_channels)\n",
        "            )\n",
        "\n",
        "        layers = [block(self.in_channels, out_channels, stride, downsample)]\n",
        "        self.in_channels = out_channels\n",
        "\n",
        "        for _ in range(1, blocks):\n",
        "            layers.append(block(out_channels, out_channels))\n",
        "\n",
        "        return nn.Sequential(*layers)\n",
        "\n",
        "    def forward(self, x):\n",
        "        x = self.relu(self.bn(self.conv(x)))\n",
        "\n",
        "        x = self.layer1(x)\n",
        "        x = self.layer2(x)\n",
        "        x = self.layer3(x)\n",
        "\n",
        "        x = self.avg_pool(x)\n",
        "        x = torch.flatten(x, 1)\n",
        "        x = self.fc(x)\n",
        "        return x\n"
      ],
      "metadata": {
        "id": "rLeR5gzKjlq0",
        "trusted": true,
        "execution": {
          "iopub.status.busy": "2025-06-21T11:27:59.792204Z",
          "iopub.execute_input": "2025-06-21T11:27:59.792446Z",
          "iopub.status.idle": "2025-06-21T11:27:59.803897Z",
          "shell.execute_reply.started": "2025-06-21T11:27:59.792424Z",
          "shell.execute_reply": "2025-06-21T11:27:59.803325Z"
        }
      },
      "outputs": [],
      "execution_count": null
    },
    {
      "cell_type": "code",
      "source": [],
      "metadata": {
        "id": "IfQ6tKNnj8Gy",
        "trusted": true
      },
      "outputs": [],
      "execution_count": null
    },
    {
      "cell_type": "code",
      "source": [
        "\n",
        "\n",
        "\n"
      ],
      "metadata": {
        "id": "z5mMqii4j90Z",
        "trusted": true
      },
      "outputs": [],
      "execution_count": null
    },
    {
      "cell_type": "code",
      "source": [
        "import torch\n",
        "import torch.nn as nn\n",
        "import numpy as np\n",
        "import matplotlib.pyplot as plt\n",
        "\n",
        "# Device configuration\n",
        "device = torch.device(\"cuda\" if torch.cuda.is_available() else \"cpu\")\n",
        "\n",
        "# Model initialization\n",
        "model = ResNetMini(ResidualBlock, layers=[2, 2, 2], num_classes=10).to(device)\n",
        "\n",
        "# Optimizer and loss function\n",
        "optimizer = torch.optim.SGD(model.parameters(), lr=learning_rate)\n",
        "loss_function = nn.CrossEntropyLoss()\n",
        "\n",
        "# DataLoader\n",
        "train_loader = torch.utils.data.DataLoader(fashion_mnist, batch_size=batch_size)\n",
        "\n",
        "total_count = 0\n",
        "for epoch_no in range(n_epochs):\n",
        "    running_loss = 0.0\n",
        "    model.train()  # Set model to training mode\n",
        "    for batch_no, (batch_inputs, batch_labels) in enumerate(train_loader):\n",
        "        total_count += batch_size\n",
        "\n",
        "        # Move data to GPU\n",
        "        batch_inputs = batch_inputs.to(device)\n",
        "        batch_labels = batch_labels.to(device)\n",
        "\n",
        "        # Training step\n",
        "        optimizer.zero_grad()\n",
        "        outputs = model(batch_inputs)\n",
        "        loss = loss_function(outputs, batch_labels)\n",
        "        loss.backward()\n",
        "        optimizer.step()\n",
        "\n",
        "        running_loss += loss.item()\n",
        "\n",
        "    running_loss = running_loss / len(train_loader)\n",
        "    print(f'Epoch {epoch_no} Training Loss--- {running_loss:.4f}')\n"
      ],
      "metadata": {
        "id": "dsfDUVtjkAPm",
        "trusted": true,
        "execution": {
          "iopub.status.busy": "2025-06-21T11:27:59.804735Z",
          "iopub.execute_input": "2025-06-21T11:27:59.804986Z",
          "iopub.status.idle": "2025-06-21T11:31:55.212964Z",
          "shell.execute_reply.started": "2025-06-21T11:27:59.804971Z",
          "shell.execute_reply": "2025-06-21T11:31:55.212205Z"
        },
        "outputId": "0d2b26f8-35d8-4bd9-b1be-e3bd86ac205c"
      },
      "outputs": [
        {
          "name": "stdout",
          "text": "Epoch 0 Training Loss--- 0.6503\nEpoch 1 Training Loss--- 0.3650\nEpoch 2 Training Loss--- 0.3002\nEpoch 3 Training Loss--- 0.2617\nEpoch 4 Training Loss--- 0.2335\nEpoch 5 Training Loss--- 0.2100\nEpoch 6 Training Loss--- 0.1908\nEpoch 7 Training Loss--- 0.1725\nEpoch 8 Training Loss--- 0.1567\nEpoch 9 Training Loss--- 0.1415\n",
          "output_type": "stream"
        }
      ],
      "execution_count": null
    },
    {
      "cell_type": "code",
      "source": [
        "# Create a test DataLoader (batching avoids memory overload)\n",
        "test_loader = torch.utils.data.DataLoader(fashion_mnist, batch_size=512, shuffle=False)\n",
        "\n",
        "model.eval()\n",
        "all_preds = []\n",
        "all_labels = []\n",
        "\n",
        "with torch.no_grad():\n",
        "    for batch_inputs, batch_labels in test_loader:\n",
        "        batch_inputs = batch_inputs.to(device)\n",
        "        batch_labels = batch_labels.to(device)\n",
        "\n",
        "        outputs = model(batch_inputs)\n",
        "        _, preds = torch.max(outputs.data, 1)\n",
        "\n",
        "        all_preds.append(preds.cpu())    # move to CPU for accuracy calc\n",
        "        all_labels.append(batch_labels.cpu())\n",
        "\n",
        "# Concatenate all predictions and labels\n",
        "test_predictions = torch.cat(all_preds)\n",
        "true_test_labels = torch.cat(all_labels)\n",
        "\n",
        "# Compute accuracy\n",
        "acc = accuracy(true_test_labels, test_predictions) * 100\n",
        "print(f\"\\nTest accuracy after training of {total_count} iterations: {acc:.2f}%\")\n"
      ],
      "metadata": {
        "id": "Mz_F0QoKNROL",
        "trusted": true,
        "execution": {
          "iopub.status.busy": "2025-06-21T11:34:30.128631Z",
          "iopub.execute_input": "2025-06-21T11:34:30.129202Z",
          "iopub.status.idle": "2025-06-21T11:34:42.044262Z",
          "shell.execute_reply.started": "2025-06-21T11:34:30.129180Z",
          "shell.execute_reply": "2025-06-21T11:34:42.043456Z"
        },
        "outputId": "0206295c-7f0d-4f54-beac-427bf9c4457a"
      },
      "outputs": [
        {
          "name": "stdout",
          "text": "\nTest accuracy after training of 600000 iterations: 94.73%\n",
          "output_type": "stream"
        },
        {
          "name": "stderr",
          "text": "/tmp/ipykernel_35/3259583533.py:11: UserWarning: To copy construct from a tensor, it is recommended to use sourceTensor.clone().detach() or sourceTensor.clone().detach().requires_grad_(True), rather than torch.tensor(sourceTensor).\n  true_labels = torch.tensor(true_labels)\n/tmp/ipykernel_35/3259583533.py:12: UserWarning: To copy construct from a tensor, it is recommended to use sourceTensor.clone().detach() or sourceTensor.clone().detach().requires_grad_(True), rather than torch.tensor(sourceTensor).\n  predicted_labels = torch.tensor(predicted_labels)\n",
          "output_type": "stream"
        }
      ],
      "execution_count": null
    }
  ]
}