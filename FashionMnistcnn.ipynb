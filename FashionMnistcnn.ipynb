{
  "nbformat": 4,
  "nbformat_minor": 0,
  "metadata": {
    "colab": {
      "provenance": [],
      "gpuType": "T4",
      "authorship_tag": "ABX9TyNVuWavjC3sPEZ1wyJxufVM",
      "include_colab_link": true
    },
    "kernelspec": {
      "name": "python3",
      "display_name": "Python 3"
    },
    "language_info": {
      "name": "python"
    },
    "accelerator": "GPU"
  },
  "cells": [
    {
      "cell_type": "markdown",
      "metadata": {
        "id": "view-in-github",
        "colab_type": "text"
      },
      "source": [
        "<a href=\"https://colab.research.google.com/github/saliq-2/FashionMnist/blob/main/FashionMnistcnn.ipynb\" target=\"_parent\"><img src=\"https://colab.research.google.com/assets/colab-badge.svg\" alt=\"Open In Colab\"/></a>"
      ]
    },
    {
      "cell_type": "code",
      "execution_count": 2,
      "metadata": {
        "id": "ffKmBU3DfrFb"
      },
      "outputs": [],
      "source": [
        "import torch\n",
        "import torch.nn as nn\n",
        "from torchvision import datasets, transforms\n",
        "import matplotlib.pyplot as plt\n",
        "%matplotlib inline\n",
        "import numpy as np"
      ]
    },
    {
      "cell_type": "code",
      "source": [
        "# Import data (ignore the warnings!)\n",
        "from torch.utils.data import DataLoader\n",
        "train_dataset = datasets.FashionMNIST('data/fashion',train=True, download=True, transform=transforms.Compose([\n",
        "                       transforms.ToTensor(),\n",
        "                       transforms.Normalize((0.1307,), (0.3081,))\n",
        "                   ]))\n",
        "test_dataset = datasets.FashionMNIST('data/fashion',train=False, download=True, transform=transforms.Compose([\n",
        "                       transforms.ToTensor(),\n",
        "                       transforms.Normalize((0.1307,), (0.3081,))\n",
        "                   ]))\n",
        "train_dataloader = DataLoader(train_dataset, batch_size=64, shuffle=True)\n",
        "test_dataloader = DataLoader(test_dataset, batch_size=64, shuffle=True)\n",
        "\n",
        "print(train_dataset)\n",
        "print(dir(train_dataset))\n",
        "print(train_dataset.train_data)"
      ],
      "metadata": {
        "colab": {
          "base_uri": "https://localhost:8080/"
        },
        "id": "gRwMAHgufxKG",
        "outputId": "a988dbed-6860-4008-af37-575b746e465c"
      },
      "execution_count": 9,
      "outputs": [
        {
          "output_type": "stream",
          "name": "stdout",
          "text": [
            "Dataset FashionMNIST\n",
            "    Number of datapoints: 60000\n",
            "    Root location: data/fashion\n",
            "    Split: Train\n",
            "    StandardTransform\n",
            "Transform: Compose(\n",
            "               ToTensor()\n",
            "               Normalize(mean=(0.1307,), std=(0.3081,))\n",
            "           )\n",
            "['__add__', '__annotations__', '__class__', '__class_getitem__', '__delattr__', '__dict__', '__dir__', '__doc__', '__eq__', '__format__', '__ge__', '__getattribute__', '__getitem__', '__getstate__', '__gt__', '__hash__', '__init__', '__init_subclass__', '__le__', '__len__', '__lt__', '__module__', '__ne__', '__new__', '__orig_bases__', '__parameters__', '__reduce__', '__reduce_ex__', '__repr__', '__setattr__', '__sizeof__', '__slots__', '__str__', '__subclasshook__', '__weakref__', '_check_exists', '_check_legacy_exist', '_format_transform_repr', '_is_protocol', '_load_data', '_load_legacy_data', '_repr_indent', 'class_to_idx', 'classes', 'data', 'download', 'extra_repr', 'mirrors', 'processed_folder', 'raw_folder', 'resources', 'root', 'target_transform', 'targets', 'test_data', 'test_file', 'test_labels', 'train', 'train_data', 'train_labels', 'training_file', 'transform', 'transforms']\n",
            "tensor([[[0, 0, 0,  ..., 0, 0, 0],\n",
            "         [0, 0, 0,  ..., 0, 0, 0],\n",
            "         [0, 0, 0,  ..., 0, 0, 0],\n",
            "         ...,\n",
            "         [0, 0, 0,  ..., 0, 0, 0],\n",
            "         [0, 0, 0,  ..., 0, 0, 0],\n",
            "         [0, 0, 0,  ..., 0, 0, 0]],\n",
            "\n",
            "        [[0, 0, 0,  ..., 0, 0, 0],\n",
            "         [0, 0, 0,  ..., 0, 0, 0],\n",
            "         [0, 0, 0,  ..., 0, 0, 0],\n",
            "         ...,\n",
            "         [0, 0, 0,  ..., 0, 0, 0],\n",
            "         [0, 0, 0,  ..., 0, 0, 0],\n",
            "         [0, 0, 0,  ..., 0, 0, 0]],\n",
            "\n",
            "        [[0, 0, 0,  ..., 0, 0, 0],\n",
            "         [0, 0, 0,  ..., 0, 0, 0],\n",
            "         [0, 0, 0,  ..., 0, 0, 0],\n",
            "         ...,\n",
            "         [0, 0, 0,  ..., 0, 0, 0],\n",
            "         [0, 0, 0,  ..., 0, 0, 0],\n",
            "         [0, 0, 0,  ..., 0, 0, 0]],\n",
            "\n",
            "        ...,\n",
            "\n",
            "        [[0, 0, 0,  ..., 0, 0, 0],\n",
            "         [0, 0, 0,  ..., 0, 0, 0],\n",
            "         [0, 0, 0,  ..., 0, 0, 0],\n",
            "         ...,\n",
            "         [0, 0, 0,  ..., 0, 0, 0],\n",
            "         [0, 0, 0,  ..., 0, 0, 0],\n",
            "         [0, 0, 0,  ..., 0, 0, 0]],\n",
            "\n",
            "        [[0, 0, 0,  ..., 0, 0, 0],\n",
            "         [0, 0, 0,  ..., 0, 0, 0],\n",
            "         [0, 0, 0,  ..., 0, 0, 0],\n",
            "         ...,\n",
            "         [0, 0, 0,  ..., 0, 0, 0],\n",
            "         [0, 0, 0,  ..., 0, 0, 0],\n",
            "         [0, 0, 0,  ..., 0, 0, 0]],\n",
            "\n",
            "        [[0, 0, 0,  ..., 0, 0, 0],\n",
            "         [0, 0, 0,  ..., 0, 0, 0],\n",
            "         [0, 0, 0,  ..., 0, 0, 0],\n",
            "         ...,\n",
            "         [0, 0, 0,  ..., 0, 0, 0],\n",
            "         [0, 0, 0,  ..., 0, 0, 0],\n",
            "         [0, 0, 0,  ..., 0, 0, 0]]], dtype=torch.uint8)\n"
          ]
        },
        {
          "output_type": "stream",
          "name": "stderr",
          "text": [
            "/usr/local/lib/python3.11/dist-packages/torchvision/datasets/mnist.py:76: UserWarning: train_data has been renamed data\n",
            "  warnings.warn(\"train_data has been renamed data\")\n"
          ]
        }
      ]
    },
    {
      "cell_type": "code",
      "source": [
        "# Target classes\n",
        "label_dict = {\n",
        " 0: 'T-shirt/top',\n",
        " 1: 'Trouser',\n",
        " 2: 'Pullover',\n",
        " 3: 'Dress',\n",
        " 4: 'Coat',\n",
        " 5: 'Sandal',\n",
        " 6: 'Shirt',\n",
        " 7: 'Sneaker',\n",
        " 8: 'Bag',\n",
        " 9: 'Ankle boot'\n",
        "}"
      ],
      "metadata": {
        "id": "WHgpKVLjfz7k"
      },
      "execution_count": 4,
      "outputs": []
    },
    {
      "cell_type": "code",
      "source": [
        "def accuracy(true_labels, predicted_labels):\n",
        "    \"\"\"\n",
        "    Compute the classification accuracy for given labels and predictions\n",
        "    :param true_labels: list of gold labels\n",
        "    :param predicted_labels: list of predicted labels of same length as true_labels\n",
        "    :return: a float between 0 and 1 describing how accurate the predicted labels are\n",
        "    \"\"\"\n",
        "    accuracy = 0.0\n",
        "\n",
        "    # YOUR CODE HERE\n",
        "    true_labels = torch.tensor(true_labels)\n",
        "    predicted_labels = torch.tensor(predicted_labels)\n",
        "\n",
        "    correct = (true_labels == predicted_labels).sum().item()\n",
        "    total = len(true_labels)\n",
        "\n",
        "    accuracy = correct / total\n",
        "    #raise NotImplementedError\n",
        "    return accuracy"
      ],
      "metadata": {
        "id": "rNve1K-Nf3bH"
      },
      "execution_count": 5,
      "outputs": []
    },
    {
      "cell_type": "code",
      "source": [
        "#cnn network arch conv-->max pool-->conv-->max pool-->fcn-->fcn\n",
        "#Mimicking the vgg arch\n",
        "class CNNFashion(nn.Module):\n",
        "  def __init__(self):\n",
        "    super(CNNFashion, self).__init__()\n",
        "    self.cnn_layer1=nn.Conv2d(in_channels=1,out_channels=32,kernel_size=2,stride=1)\n",
        "    self.cnn_layer2=nn.Conv2d(in_channels=32,out_channels=64,kernel_size=2,stride=1)\n",
        "    self.max_pool=nn.MaxPool2d(kernel_size=2,stride=2)\n",
        "\n",
        "    #Activation Function\n",
        "    self.relu=nn.ReLU()\n",
        "    #Linear Layers\n",
        "    self.linear1=nn.Linear(6*6*64,1028)\n",
        "    self.linear2=nn.Linear(1028,512)\n",
        "    self.linear3=nn.Linear(512,128)\n",
        "    self.linear4=nn.Linear(128,10)\n",
        "\n",
        "  def forward(self,x):\n",
        "\n",
        "    x=self.max_pool(self.relu(self.cnn_layer1(x)))\n",
        "\n",
        "    x=self.max_pool(self.relu(self.cnn_layer2(x)))\n",
        "\n",
        "    x=x.view(x.size(0),-1)\n",
        "\n",
        "    x=self.relu(self.linear1(x))\n",
        "\n",
        "    x=self.relu(self.linear2(x))\n",
        "\n",
        "    x=self.relu(self.linear3(x))\n",
        "\n",
        "    x=self.linear4(x)\n",
        "\n",
        "    return x\n",
        "\n",
        "\n",
        "\n"
      ],
      "metadata": {
        "id": "zcLsImoAf4Ju"
      },
      "execution_count": 25,
      "outputs": []
    },
    {
      "cell_type": "code",
      "source": [
        "#Defiining the model\n",
        "model=CNNFashion()\n",
        "criterion=nn.CrossEntropyLoss()\n",
        "optimizer=torch.optim.Adam(model.parameters(),lr=0.001)\n",
        "\n",
        "\n",
        "epochs=10\n",
        "\n",
        "\n"
      ],
      "metadata": {
        "id": "a-747sArw4SY"
      },
      "execution_count": 26,
      "outputs": []
    },
    {
      "cell_type": "code",
      "source": [
        "running_loss=0.0\n",
        "#Training the model\n",
        "for epoch in range(epochs):\n",
        "  running_loss=0.0\n",
        "  running_val_loss=0.0\n",
        "\n",
        "\n",
        "  for images,labels in train_dataloader:\n",
        "    model.train()\n",
        "\n",
        "\n",
        "    optimizer.zero_grad()\n",
        "\n",
        "    output=model(images)\n",
        "    loss=criterion(output,labels)\n",
        "    loss.backward()\n",
        "    optimizer.step()\n",
        "    running_loss+=loss.item()\n",
        "\n",
        "  else:\n",
        "    print(f\"Epoch {epoch}--Training loss: {running_loss/len(train_dataloader)}\")\n",
        "\n",
        "\n",
        "    with torch.no_grad():\n",
        "      model.eval\n",
        "      accuracy_list=[]\n",
        "      for images,labels in test_dataloader:\n",
        "        output1=model(images)\n",
        "        loss1=criterion(output1,labels)\n",
        "        ps=torch.exp(output1)\n",
        "        top_p,top_class=ps.topk(1,dim=1)\n",
        "        equals=top_class==labels.view(*top_class.shape)\n",
        "        accuracy_list.append(torch.mean(equals.type(torch.FloatTensor)))\n",
        "        running_val_loss+=loss1.item()\n",
        "\n",
        "    print(f\"Validation Loss:{running_val_loss/len(test_dataloader)}--Validation accuracy: {torch.mean(torch.FloatTensor(accuracy_list))}\")\n",
        "\n"
      ],
      "metadata": {
        "colab": {
          "base_uri": "https://localhost:8080/"
        },
        "id": "Lk_YSAU_xIDM",
        "outputId": "79d6e46a-0fac-406e-b6c8-5757a4e92ee7"
      },
      "execution_count": 29,
      "outputs": [
        {
          "output_type": "stream",
          "name": "stdout",
          "text": [
            "Epoch 0--Training loss: 0.13625689079540212\n",
            "Validation Loss:0.25601774325985815--Validation accuracy: 0.9130175113677979\n",
            "Epoch 1--Training loss: 0.11101889425813198\n",
            "Validation Loss:0.2805703359472144--Validation accuracy: 0.9120222926139832\n",
            "Epoch 2--Training loss: 0.09312020986949576\n",
            "Validation Loss:0.3161478436486736--Validation accuracy: 0.9082404375076294\n",
            "Epoch 3--Training loss: 0.07520028901919881\n",
            "Validation Loss:0.34340434198736386--Validation accuracy: 0.918292224407196\n",
            "Epoch 4--Training loss: 0.06124903670207325\n",
            "Validation Loss:0.3518589601561332--Validation accuracy: 0.9198845624923706\n",
            "Epoch 5--Training loss: 0.05487783403701282\n",
            "Validation Loss:0.3870709306874852--Validation accuracy: 0.9144108295440674\n",
            "Epoch 6--Training loss: 0.04568017703751703\n",
            "Validation Loss:0.39572787975334817--Validation accuracy: 0.9153065085411072\n",
            "Epoch 7--Training loss: 0.03960295540230624\n",
            "Validation Loss:0.425160486773131--Validation accuracy: 0.9123208522796631\n",
            "Epoch 8--Training loss: 0.03439054338384106\n",
            "Validation Loss:0.43458302023636686--Validation accuracy: 0.9166003465652466\n",
            "Epoch 9--Training loss: 0.03207747663230648\n",
            "Validation Loss:0.4607640329783984--Validation accuracy: 0.915505588054657\n"
          ]
        }
      ]
    },
    {
      "cell_type": "code",
      "source": [],
      "metadata": {
        "id": "ZxDa2wHe64jE"
      },
      "execution_count": 31,
      "outputs": []
    }
  ]
}