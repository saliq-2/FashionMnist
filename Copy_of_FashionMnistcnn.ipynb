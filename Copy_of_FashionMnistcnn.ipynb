{
  "nbformat": 4,
  "nbformat_minor": 0,
  "metadata": {
    "colab": {
      "provenance": [],
      "authorship_tag": "ABX9TyNOqy4B3tWTplq7RcpP8u2f",
      "include_colab_link": true
    },
    "kernelspec": {
      "name": "python3",
      "display_name": "Python 3"
    },
    "language_info": {
      "name": "python"
    }
  },
  "cells": [
    {
      "cell_type": "markdown",
      "metadata": {
        "id": "view-in-github",
        "colab_type": "text"
      },
      "source": [
        "<a href=\"https://colab.research.google.com/github/saliq-2/FashionMnist/blob/main/Copy_of_FashionMnistcnn.ipynb\" target=\"_parent\"><img src=\"https://colab.research.google.com/assets/colab-badge.svg\" alt=\"Open In Colab\"/></a>"
      ]
    },
    {
      "cell_type": "code",
      "execution_count": 1,
      "metadata": {
        "id": "ffKmBU3DfrFb"
      },
      "outputs": [],
      "source": [
        "import torch\n",
        "import torch.nn as nn\n",
        "from torchvision import datasets, transforms\n",
        "import matplotlib.pyplot as plt\n",
        "%matplotlib inline\n",
        "import numpy as np"
      ]
    },
    {
      "cell_type": "code",
      "source": [
        "# Import data (ignore the warnings!)\n",
        "fashion_mnist = datasets.FashionMNIST('data/fashion', download=True, transform=transforms.Compose([\n",
        "                       transforms.ToTensor(),\n",
        "                       transforms.Normalize((0.1307,), (0.3081,))\n",
        "                   ]))\n",
        "print(fashion_mnist)\n",
        "print(dir(fashion_mnist))\n",
        "print(fashion_mnist.train_data)\n"
      ],
      "metadata": {
        "colab": {
          "base_uri": "https://localhost:8080/"
        },
        "id": "gRwMAHgufxKG",
        "outputId": "023d0658-44a3-4e89-9872-1dec0f5a2b76"
      },
      "execution_count": 2,
      "outputs": [
        {
          "output_type": "stream",
          "name": "stderr",
          "text": [
            "100%|██████████| 26.4M/26.4M [00:01<00:00, 18.5MB/s]\n",
            "100%|██████████| 29.5k/29.5k [00:00<00:00, 304kB/s]\n",
            "100%|██████████| 4.42M/4.42M [00:00<00:00, 5.45MB/s]\n",
            "100%|██████████| 5.15k/5.15k [00:00<00:00, 9.36MB/s]"
          ]
        },
        {
          "output_type": "stream",
          "name": "stdout",
          "text": [
            "Dataset FashionMNIST\n",
            "    Number of datapoints: 60000\n",
            "    Root location: data/fashion\n",
            "    Split: Train\n",
            "    StandardTransform\n",
            "Transform: Compose(\n",
            "               ToTensor()\n",
            "               Normalize(mean=(0.1307,), std=(0.3081,))\n",
            "           )\n",
            "['__add__', '__annotations__', '__class__', '__class_getitem__', '__delattr__', '__dict__', '__dir__', '__doc__', '__eq__', '__format__', '__ge__', '__getattribute__', '__getitem__', '__getstate__', '__gt__', '__hash__', '__init__', '__init_subclass__', '__le__', '__len__', '__lt__', '__module__', '__ne__', '__new__', '__orig_bases__', '__parameters__', '__reduce__', '__reduce_ex__', '__repr__', '__setattr__', '__sizeof__', '__slots__', '__str__', '__subclasshook__', '__weakref__', '_check_exists', '_check_legacy_exist', '_format_transform_repr', '_is_protocol', '_load_data', '_load_legacy_data', '_repr_indent', 'class_to_idx', 'classes', 'data', 'download', 'extra_repr', 'mirrors', 'processed_folder', 'raw_folder', 'resources', 'root', 'target_transform', 'targets', 'test_data', 'test_file', 'test_labels', 'train', 'train_data', 'train_labels', 'training_file', 'transform', 'transforms']\n",
            "tensor([[[0, 0, 0,  ..., 0, 0, 0],\n",
            "         [0, 0, 0,  ..., 0, 0, 0],\n",
            "         [0, 0, 0,  ..., 0, 0, 0],\n",
            "         ...,\n",
            "         [0, 0, 0,  ..., 0, 0, 0],\n",
            "         [0, 0, 0,  ..., 0, 0, 0],\n",
            "         [0, 0, 0,  ..., 0, 0, 0]],\n",
            "\n",
            "        [[0, 0, 0,  ..., 0, 0, 0],\n",
            "         [0, 0, 0,  ..., 0, 0, 0],\n",
            "         [0, 0, 0,  ..., 0, 0, 0],\n",
            "         ...,\n",
            "         [0, 0, 0,  ..., 0, 0, 0],\n",
            "         [0, 0, 0,  ..., 0, 0, 0],\n",
            "         [0, 0, 0,  ..., 0, 0, 0]],\n",
            "\n",
            "        [[0, 0, 0,  ..., 0, 0, 0],\n",
            "         [0, 0, 0,  ..., 0, 0, 0],\n",
            "         [0, 0, 0,  ..., 0, 0, 0],\n",
            "         ...,\n",
            "         [0, 0, 0,  ..., 0, 0, 0],\n",
            "         [0, 0, 0,  ..., 0, 0, 0],\n",
            "         [0, 0, 0,  ..., 0, 0, 0]],\n",
            "\n",
            "        ...,\n",
            "\n",
            "        [[0, 0, 0,  ..., 0, 0, 0],\n",
            "         [0, 0, 0,  ..., 0, 0, 0],\n",
            "         [0, 0, 0,  ..., 0, 0, 0],\n",
            "         ...,\n",
            "         [0, 0, 0,  ..., 0, 0, 0],\n",
            "         [0, 0, 0,  ..., 0, 0, 0],\n",
            "         [0, 0, 0,  ..., 0, 0, 0]],\n",
            "\n",
            "        [[0, 0, 0,  ..., 0, 0, 0],\n",
            "         [0, 0, 0,  ..., 0, 0, 0],\n",
            "         [0, 0, 0,  ..., 0, 0, 0],\n",
            "         ...,\n",
            "         [0, 0, 0,  ..., 0, 0, 0],\n",
            "         [0, 0, 0,  ..., 0, 0, 0],\n",
            "         [0, 0, 0,  ..., 0, 0, 0]],\n",
            "\n",
            "        [[0, 0, 0,  ..., 0, 0, 0],\n",
            "         [0, 0, 0,  ..., 0, 0, 0],\n",
            "         [0, 0, 0,  ..., 0, 0, 0],\n",
            "         ...,\n",
            "         [0, 0, 0,  ..., 0, 0, 0],\n",
            "         [0, 0, 0,  ..., 0, 0, 0],\n",
            "         [0, 0, 0,  ..., 0, 0, 0]]], dtype=torch.uint8)\n"
          ]
        },
        {
          "output_type": "stream",
          "name": "stderr",
          "text": [
            "\n",
            "/usr/local/lib/python3.11/dist-packages/torchvision/datasets/mnist.py:76: UserWarning: train_data has been renamed data\n",
            "  warnings.warn(\"train_data has been renamed data\")\n"
          ]
        }
      ]
    },
    {
      "cell_type": "code",
      "source": [
        "# Target classes\n",
        "label_dict = {\n",
        " 0: 'T-shirt/top',\n",
        " 1: 'Trouser',\n",
        " 2: 'Pullover',\n",
        " 3: 'Dress',\n",
        " 4: 'Coat',\n",
        " 5: 'Sandal',\n",
        " 6: 'Shirt',\n",
        " 7: 'Sneaker',\n",
        " 8: 'Bag',\n",
        " 9: 'Ankle boot'\n",
        "}"
      ],
      "metadata": {
        "id": "WHgpKVLjfz7k"
      },
      "execution_count": 3,
      "outputs": []
    },
    {
      "cell_type": "code",
      "source": [
        "def accuracy(true_labels, predicted_labels):\n",
        "    \"\"\"\n",
        "    Compute the classification accuracy for given labels and predictions\n",
        "    :param true_labels: list of gold labels\n",
        "    :param predicted_labels: list of predicted labels of same length as true_labels\n",
        "    :return: a float between 0 and 1 describing how accurate the predicted labels are\n",
        "    \"\"\"\n",
        "    accuracy = 0.0\n",
        "\n",
        "    # YOUR CODE HERE\n",
        "    true_labels = torch.tensor(true_labels)\n",
        "    predicted_labels = torch.tensor(predicted_labels)\n",
        "\n",
        "    correct = (true_labels == predicted_labels).sum().item()\n",
        "    total = len(true_labels)\n",
        "\n",
        "    accuracy = correct / total\n",
        "    #raise NotImplementedError\n",
        "    return accuracy"
      ],
      "metadata": {
        "id": "rNve1K-Nf3bH"
      },
      "execution_count": 4,
      "outputs": []
    },
    {
      "cell_type": "code",
      "source": [
        "#cnn network arch conv-->max pool-->conv-->max pool-->fcn-->fcn\n",
        "\n",
        "class CNNFashion(nn.Module):\n",
        "  def __init__(self):\n",
        "    super(CNNFashion, self).__init__()\n",
        "    self.cnn_layer1=nn.Conv2d(in_channels=1,out_channels=32,kernel_size=2,stride=1)\n",
        "    self.cnn_layer2=nn.Conv2d(in_channels=32,out_channels=64,kernel_size=2,stride=1)\n",
        "    self.max_pool=nn.MaxPool2d(kernel_size=2,stride=2)\n",
        "\n",
        "    #Activation Function\n",
        "    self.relu=nn.ReLU()\n",
        "    #Linear Layers\n",
        "    self.linear1=nn.Linear(6*6*64,1028)\n",
        "    self.linear2=nn.Linear(1028,512)\n",
        "    self.linear3=nn.Linear(512,128)\n",
        "    self.linear4=nn.Linear(128,10)\n",
        "\n",
        "  def forward(self,x):\n",
        "\n",
        "    x=self.max_pool(self.relu(self.cnn_layer1(x)))\n",
        "\n",
        "    x=self.max_pool(self.relu(self.cnn_layer2(x)))\n",
        "\n",
        "    x=x.view(x.size(0),-1)\n",
        "\n",
        "    x=self.relu(self.linear1(x))\n",
        "\n",
        "    x=self.relu(self.linear2(x))\n",
        "\n",
        "    x=self.relu(self.linear3(x))\n",
        "\n",
        "    x=self.linear4(x)\n",
        "\n",
        "    return x\n",
        "\n",
        "\n",
        "\n"
      ],
      "metadata": {
        "id": "zcLsImoAf4Ju"
      },
      "execution_count": 5,
      "outputs": []
    },
    {
      "cell_type": "code",
      "source": [
        "n_input = 784  # Fashion MNIST data input (img shape: 28*28)\n",
        "n_classes = len(label_dict)  # Fashion MNIST total classes (0–9 digits)\n",
        "n_samples = fashion_mnist.train_data.shape[0]  # Number of examples in training set\n",
        "batch_size = 32\n",
        "n_epochs = 10\n",
        "summary_freq_batches = 10\n",
        "learning_rate = 0.001\n",
        "train_loader = torch.utils.data.DataLoader(fashion_mnist, batch_size = batch_size)"
      ],
      "metadata": {
        "id": "GrbywdYrJ5U_"
      },
      "execution_count": 6,
      "outputs": []
    },
    {
      "cell_type": "code",
      "source": [
        "#Defiining the model\n",
        "model=CNNFashion()\n",
        "criterion=nn.CrossEntropyLoss()\n",
        "optimizer=torch.optim.Adam(model.parameters(),lr=0.001)\n",
        "\n",
        "\n",
        "\n",
        "\n"
      ],
      "metadata": {
        "id": "a-747sArw4SY"
      },
      "execution_count": 7,
      "outputs": []
    },
    {
      "cell_type": "code",
      "source": [
        "#TODO: initialise model, optimizer and loss function\n",
        "# Training\n",
        "model=CNNFashion()\n",
        "optimizer=torch.optim.SGD(model.parameters(),lr=learning_rate)\n",
        "loss_function=nn.CrossEntropyLoss()\n",
        "train_loader = torch.utils.data.DataLoader(fashion_mnist, batch_size = batch_size)\n",
        "total_count = 0\n",
        "for epoch_no in range(n_epochs):\n",
        "    running_loss=0.0\n",
        "    for batch_no, (batch_inputs, batch_labels) in enumerate(train_loader):\n",
        "\n",
        "        total_count += batch_size\n",
        "        # TODO: feed input to model, calculate loss, step with the optimizer, zero_grad\n",
        "        # YOUR CODE HERE\n",
        "        optimizer.zero_grad()\n",
        "        outputs=model(batch_inputs)\n",
        "        loss=loss_function(outputs,batch_labels)\n",
        "        loss.backward()\n",
        "        optimizer.step()\n",
        "        running_loss+=loss.item()\n",
        "\n",
        "\n",
        "\n",
        "\n",
        "\n",
        "\n",
        "        #raise NotImplementedError()\n",
        "\n",
        "        #if batch_no % summary_freq_batches==0:\n",
        "            # TODO: add the loss of the training batch to the training summary\n",
        "            # YOUR CODE HERE\n",
        "            #print(f\"Epoch {epoch_no}, Batch {batch_no}, Loss: {loss.item():.4f}\")\n",
        "\n",
        "    running_loss=running_loss/len(train_loader)\n",
        "\n",
        "    print(f'Epoch {epoch_no} Training Loss--- {running_loss}')\n",
        "            #raise NotImplementedError()\n",
        "\n",
        "# Test on the train set (do not do this in practice)\n",
        "\n",
        "test_inputs = fashion_mnist.data.unsqueeze(1).float()  # [60000, 1, 28, 28]\n",
        "\n",
        "test_labels = fashion_mnist.targets\n",
        "\n",
        "test_predictions = None\n",
        "# TODO: feed test inputs, fetch predictions\n",
        "# YOUR CODE HERE\n",
        "\n",
        "with torch.no_grad():\n",
        "    model.eval() # Set the model to evaluation mode\n",
        "\n",
        "    # Get model outputs (logits)\n",
        "    test_outputs = model(test_inputs.float())\n",
        "\n",
        "    # Get the predicted class by finding the index of the maximum log-probability\n",
        "    # torch.max returns (values, indices), we only need the indices\n",
        "    _, test_predictions = torch.max(test_outputs.data, 1)\n",
        "\n",
        "# Compute the accuracy of the validation predictions\n",
        "true_test_labels = test_labels\n",
        "print(\"\\nTest accuracy after training of {} iterations: {:.2f}%\".format(total_count, accuracy(true_test_labels, test_predictions)*100))\n",
        "\n",
        "# Random test sample\n",
        "sample_no = np.random.randint(0, len(test_inputs))\n",
        "print(\"\\nTest prediction: {}\".format(label_dict[test_predictions[sample_no].item()]))\n",
        "\n",
        "plt.show()\n",
        "plt.imshow(test_inputs[sample_no].reshape(28,28), cmap='Greys')\n",
        "plt.show()\n"
      ],
      "metadata": {
        "colab": {
          "base_uri": "https://localhost:8080/",
          "height": 771
        },
        "id": "Lk_YSAU_xIDM",
        "outputId": "0f91da25-6477-44db-ee1f-a931e550a64c"
      },
      "execution_count": 8,
      "outputs": [
        {
          "output_type": "stream",
          "name": "stdout",
          "text": [
            "Epoch 0 Training Loss--- 2.2751914637247723\n",
            "Epoch 1 Training Loss--- 1.8474410091718039\n",
            "Epoch 2 Training Loss--- 0.9897183358510335\n",
            "Epoch 3 Training Loss--- 0.8325522655646006\n",
            "Epoch 4 Training Loss--- 0.7531058550198872\n",
            "Epoch 5 Training Loss--- 0.6996948992093404\n",
            "Epoch 6 Training Loss--- 0.6586118539333343\n",
            "Epoch 7 Training Loss--- 0.6238045982837677\n",
            "Epoch 8 Training Loss--- 0.5929869932333628\n",
            "Epoch 9 Training Loss--- 0.5657055218617122\n"
          ]
        },
        {
          "output_type": "stream",
          "name": "stderr",
          "text": [
            "/tmp/ipython-input-4-3259583533.py:11: UserWarning: To copy construct from a tensor, it is recommended to use sourceTensor.clone().detach() or sourceTensor.clone().detach().requires_grad_(True), rather than torch.tensor(sourceTensor).\n",
            "  true_labels = torch.tensor(true_labels)\n",
            "/tmp/ipython-input-4-3259583533.py:12: UserWarning: To copy construct from a tensor, it is recommended to use sourceTensor.clone().detach() or sourceTensor.clone().detach().requires_grad_(True), rather than torch.tensor(sourceTensor).\n",
            "  predicted_labels = torch.tensor(predicted_labels)\n"
          ]
        },
        {
          "output_type": "stream",
          "name": "stdout",
          "text": [
            "\n",
            "Test accuracy after training of 600000 iterations: 75.65%\n",
            "\n",
            "Test prediction: Trouser\n"
          ]
        },
        {
          "output_type": "display_data",
          "data": {
            "text/plain": [
              "<Figure size 640x480 with 1 Axes>"
            ],
            "image/png": "[encoded data removed]"
          },
          "metadata": {}
        }
      ]
    },
    {
      "cell_type": "code",
      "source": [],
      "metadata": {
        "id": "ZxDa2wHe64jE"
      },
      "execution_count": 8,
      "outputs": []
    }
  ]
}